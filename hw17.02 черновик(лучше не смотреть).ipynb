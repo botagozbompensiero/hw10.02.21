{
 "cells": [
  {
   "cell_type": "code",
   "execution_count": 1,
   "id": "certified-glucose",
   "metadata": {},
   "outputs": [],
   "source": [
    "import numpy as np\n",
    "import matplotlib.pyplot as plt"
   ]
  },
  {
   "cell_type": "markdown",
   "id": "major-poetry",
   "metadata": {},
   "source": [
    "# 11"
   ]
  },
  {
   "cell_type": "code",
   "execution_count": 2,
   "id": "continent-granny",
   "metadata": {},
   "outputs": [
    {
     "name": "stdout",
     "output_type": "stream",
     "text": [
      "[[0. 0. 0. 0.]\n",
      " [0. 2. 0. 0.]\n",
      " [0. 0. 4. 0.]\n",
      " [0. 0. 0. 6.]]\n"
     ]
    }
   ],
   "source": [
    "n = 4\n",
    "a = np.zeros((n, n))\n",
    "#a[0,0] = 1\n",
    "for j in range(0, n):\n",
    "    for i in range(j, j+1):\n",
    "       # while \n",
    "        a[i, j] = i + j\n",
    "print(a)"
   ]
  },
  {
   "cell_type": "code",
   "execution_count": 3,
   "id": "middle-google",
   "metadata": {},
   "outputs": [
    {
     "data": {
      "text/plain": [
       "array([[ 1.,  2.,  3.,  4.],\n",
       "       [ 0.,  0.,  0.,  5.],\n",
       "       [ 0.,  0.,  0.,  6.],\n",
       "       [10.,  9.,  8.,  7.]])"
      ]
     },
     "execution_count": 3,
     "metadata": {},
     "output_type": "execute_result"
    }
   ],
   "source": [
    "n = 4\n",
    "a = np.zeros((n, n))\n",
    "for j in range(0, n):\n",
    "    for i in range(0, 1):\n",
    "        num = 0\n",
    "        a[i, j] = 0\n",
    "        while num<j+1:\n",
    "            a[i, j] += 1\n",
    "            num += 1\n",
    "for i in range(1, n):\n",
    "    for j in range(3, 4):\n",
    "        num = 4\n",
    "        a[i, j] = 4\n",
    "        while num< i+4:\n",
    "            a[i, j] += 1\n",
    "            num += 1\n",
    "for j in range(3, -1, -1):\n",
    "    for i in range(3, 4):\n",
    "        num = 7\n",
    "        a[i, j] = 10\n",
    "        while num< j+7:\n",
    "            a[i, j] -= 1\n",
    "            num += 1\n",
    "\n",
    "a"
   ]
  },
  {
   "cell_type": "code",
   "execution_count": 4,
   "id": "herbal-adelaide",
   "metadata": {},
   "outputs": [
    {
     "data": {
      "text/plain": [
       "array([[ 1.,  2.,  3.,  4.],\n",
       "       [12., 13., 14.,  5.],\n",
       "       [11., 16., 15.,  6.],\n",
       "       [10.,  9.,  8.,  7.]])"
      ]
     },
     "execution_count": 4,
     "metadata": {},
     "output_type": "execute_result"
    }
   ],
   "source": [
    "n = 4\n",
    "a = np.zeros((n, n))\n",
    "for j in range(0, n):\n",
    "    for i in range(0, 1):\n",
    "        num = 0\n",
    "        a[i, j] = 0\n",
    "        while num<j+1:\n",
    "            a[i, j] += 1\n",
    "            num += 1\n",
    "for i in range(1, n):\n",
    "    for j in range(3, 4):\n",
    "        num = 4\n",
    "        a[i, j] = 4\n",
    "        while num< i+4:\n",
    "            a[i, j] += 1\n",
    "            num += 1\n",
    "for j in range(3, -1, -1):\n",
    "    for i in range(3, 4):\n",
    "        num = 7\n",
    "        a[i, j] = 10\n",
    "        while num< j+7:\n",
    "            a[i, j] -= 1\n",
    "            num += 1\n",
    "for i in range(2, 0, -1):\n",
    "    for j in range(0, 1):\n",
    "        num = 10\n",
    "        a[i, j] = 12\n",
    "        while num< i+9:\n",
    "            a[i, j] -= 1\n",
    "            num += 1\n",
    "for j in range(1, 3):\n",
    "    for i in range(1, 2):\n",
    "        num = 12\n",
    "        a[i, j] = 12\n",
    "        while num< j+12:\n",
    "            a[i, j] += 1\n",
    "            num += 1\n",
    "for i in range(2, 3):\n",
    "    for j in range(2, 3):\n",
    "        num = 14\n",
    "        a[i, j] = 14\n",
    "        while num< i+13:\n",
    "            a[i, j] += 1\n",
    "            num += 1\n",
    "for j in range(1, 0, -1):\n",
    "    for i in range(2, 3):\n",
    "        num = 15\n",
    "        a[i, j] = 16\n",
    "        while num< j+14:\n",
    "            a[i, j] -= 1\n",
    "            num += 1\n",
    "a"
   ]
  },
  {
   "cell_type": "code",
   "execution_count": null,
   "id": "interior-review",
   "metadata": {},
   "outputs": [],
   "source": []
  }
 ],
 "metadata": {
  "kernelspec": {
   "display_name": "Python 3",
   "language": "python",
   "name": "python3"
  },
  "language_info": {
   "codemirror_mode": {
    "name": "ipython",
    "version": 3
   },
   "file_extension": ".py",
   "mimetype": "text/x-python",
   "name": "python",
   "nbconvert_exporter": "python",
   "pygments_lexer": "ipython3",
   "version": "3.8.5"
  }
 },
 "nbformat": 4,
 "nbformat_minor": 5
}
