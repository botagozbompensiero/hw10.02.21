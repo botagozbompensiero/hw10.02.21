{
 "cells": [
  {
   "cell_type": "code",
   "execution_count": 2,
   "id": "cleared-iraqi",
   "metadata": {},
   "outputs": [],
   "source": [
    "import numpy as np\n",
    "import matplotlib.pyplot as plt"
   ]
  },
  {
   "cell_type": "code",
   "execution_count": 80,
   "id": "excessive-resource",
   "metadata": {},
   "outputs": [
    {
     "data": {
      "text/plain": [
       "array([[ 1.,  2.,  3.,  4.],\n",
       "       [12.,  0.,  0.,  5.],\n",
       "       [11.,  0.,  0.,  6.],\n",
       "       [10.,  9.,  8.,  7.]])"
      ]
     },
     "execution_count": 80,
     "metadata": {},
     "output_type": "execute_result"
    }
   ],
   "source": [
    "n = 4\n",
    "a = np.zeros((n, n))\n",
    "default = 0\n",
    "forward = n\n",
    "backward = 0\n",
    "num = 0\n",
    "\n",
    "def rows(q):\n",
    "    for j in range(default, n):\n",
    "        for i in range(q, q+1):\n",
    "            a[i, j] = 0\n",
    "            number = num\n",
    "            while number < j+1:\n",
    "                a[i, j] += 1\n",
    "                number += 1\n",
    "            #num +=3\n",
    "                \n",
    "def rows_reverse(p):\n",
    "    for j in range(p, -1, -1):\n",
    "        for i in range(3, 4):\n",
    "            number = num\n",
    "            a[i, j] = 10\n",
    "            while number<j+6:\n",
    "                a[i, j] -= 1\n",
    "                number += 1\n",
    "                \n",
    "def collumns(d):\n",
    "    for i in range(0, n):\n",
    "        for j in range(d, d+1):\n",
    "            number = num\n",
    "            a[i, j] = 3\n",
    "            while number< i+4:\n",
    "                a[i, j] += 1\n",
    "                number += 1\n",
    "                \n",
    "def collumns_reverse(b):\n",
    "    for i in range(2, 0, -1):\n",
    "        for j in range(b, b+1):\n",
    "            number = num\n",
    "            a[i, j] = 13\n",
    "            while number< i+9:\n",
    "                a[i, j] -= 1\n",
    "                number += 1\n",
    "\n",
    "rows(0)\n",
    "num +=3\n",
    "collumns(3)\n",
    "num +=3\n",
    "rows_reverse(3)\n",
    "num +=3\n",
    "collumns_reverse(0)\n",
    "\n",
    "a"
   ]
  },
  {
   "cell_type": "code",
   "execution_count": null,
   "id": "instructional-savage",
   "metadata": {},
   "outputs": [],
   "source": []
  }
 ],
 "metadata": {
  "kernelspec": {
   "display_name": "Python 3",
   "language": "python",
   "name": "python3"
  },
  "language_info": {
   "codemirror_mode": {
    "name": "ipython",
    "version": 3
   },
   "file_extension": ".py",
   "mimetype": "text/x-python",
   "name": "python",
   "nbconvert_exporter": "python",
   "pygments_lexer": "ipython3",
   "version": "3.8.5"
  }
 },
 "nbformat": 4,
 "nbformat_minor": 5
}
