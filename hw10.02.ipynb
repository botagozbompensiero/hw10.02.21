{
 "cells": [
  {
   "cell_type": "code",
   "execution_count": 131,
   "id": "finnish-cross",
   "metadata": {},
   "outputs": [],
   "source": [
    "import numpy as np\n",
    "import random\n",
    "import matplotlib.pyplot as plt\n",
    "from math import factorial"
   ]
  },
  {
   "cell_type": "markdown",
   "id": "miniature-lease",
   "metadata": {},
   "source": [
    "# 17.б"
   ]
  },
  {
   "cell_type": "code",
   "execution_count": 132,
   "id": "blessed-documentary",
   "metadata": {
    "scrolled": true
   },
   "outputs": [
    {
     "name": "stdout",
     "output_type": "stream",
     "text": [
      "[[4. 2. 1.]\n",
      " [5. 1. 4.]\n",
      " [4. 4. 1.]]\n"
     ]
    }
   ],
   "source": [
    "a = np.zeros((3,3))\n",
    "for i in range(0,3):\n",
    "    for j in range(0,3):\n",
    "        a[i,j] = random.randint(0,5)\n",
    "print(a)"
   ]
  },
  {
   "cell_type": "code",
   "execution_count": 133,
   "id": "indian-hearing",
   "metadata": {},
   "outputs": [],
   "source": [
    "## перший варіант коду"
   ]
  },
  {
   "cell_type": "code",
   "execution_count": 134,
   "id": "particular-psychiatry",
   "metadata": {},
   "outputs": [
    {
     "name": "stdout",
     "output_type": "stream",
     "text": [
      "5.0\n"
     ]
    }
   ],
   "source": [
    "max = 0\n",
    "for i in range(0,3):\n",
    "    for j in range(0,3):\n",
    "        if a[i,j] > max:\n",
    "            max = a[i,j]\n",
    "print(max)"
   ]
  },
  {
   "cell_type": "code",
   "execution_count": 135,
   "id": "spread-surfing",
   "metadata": {},
   "outputs": [
    {
     "name": "stdout",
     "output_type": "stream",
     "text": [
      "4.0\n",
      "5.0\n",
      "4.0\n"
     ]
    }
   ],
   "source": [
    "max_ryadok = 0\n",
    "for i in range(0,3):\n",
    "    for j in range(0,3):\n",
    "        if a[i,j] > max_ryadok:\n",
    "            max_ryadok = a[i,j]\n",
    "    print(max_ryadok)\n",
    "    max_ryadok = 0"
   ]
  },
  {
   "cell_type": "code",
   "execution_count": 136,
   "id": "nutritional-premiere",
   "metadata": {},
   "outputs": [
    {
     "name": "stdout",
     "output_type": "stream",
     "text": [
      "5.0\n",
      "4.0\n",
      "4.0\n"
     ]
    }
   ],
   "source": [
    "max_stolbik = 0\n",
    "for j in range(0,3):\n",
    "    for i in range(0,3):\n",
    "        if a[i,j] > max_stolbik:\n",
    "            max_stolbik = a[i,j]\n",
    "    print(max_stolbik)\n",
    "    max_stolbik = 0"
   ]
  },
  {
   "cell_type": "code",
   "execution_count": 137,
   "id": "recognized-credit",
   "metadata": {},
   "outputs": [],
   "source": [
    "## другий варіант коду"
   ]
  },
  {
   "cell_type": "code",
   "execution_count": 138,
   "id": "loving-douglas",
   "metadata": {},
   "outputs": [
    {
     "name": "stdout",
     "output_type": "stream",
     "text": [
      "5.0\n",
      "[4. 5. 4.]\n",
      "[5. 4. 4.]\n"
     ]
    }
   ],
   "source": [
    "print(a.max())\n",
    "print(a.max(axis = 1))\n",
    "print(a.max(axis = 0))"
   ]
  },
  {
   "cell_type": "markdown",
   "id": "colonial-native",
   "metadata": {},
   "source": [
    "# 19.а"
   ]
  },
  {
   "cell_type": "code",
   "execution_count": 139,
   "id": "medium-binding",
   "metadata": {},
   "outputs": [
    {
     "data": {
      "text/plain": [
       "[<matplotlib.lines.Line2D at 0x6a74478>]"
      ]
     },
     "execution_count": 139,
     "metadata": {},
     "output_type": "execute_result"
    },
    {
     "data": {
      "image/png": "[encoded data removed]",
      "text/plain": [
       "<Figure size 432x288 with 1 Axes>"
      ]
     },
     "metadata": {
      "needs_background": "light"
     },
     "output_type": "display_data"
    }
   ],
   "source": [
    "%matplotlib inline\n",
    "a = 2\n",
    "b = 5\n",
    "n = 15\n",
    "def f(x):\n",
    "    return (x**3 + 2*x**2 - 3*x - 2)/(x**2 + x-2)\n",
    "x = np.linspace(a, b, n)\n",
    "y = f(x)\n",
    "plt.plot(x, y, color = '#696969', marker = '*')"
   ]
  },
  {
   "cell_type": "markdown",
   "id": "classified-liabilities",
   "metadata": {},
   "source": [
    "# 4"
   ]
  },
  {
   "cell_type": "code",
   "execution_count": 140,
   "id": "rational-deadline",
   "metadata": {},
   "outputs": [
    {
     "data": {
      "text/plain": [
       "array([[0., 0., 0., 0., 0., 0., 0., 0., 0., 0., 0., 0., 0., 0., 0.],\n",
       "       [0., 2., 0., 0., 0., 0., 0., 0., 0., 0., 0., 0., 0., 0., 0.],\n",
       "       [0., 0., 2., 0., 0., 0., 0., 0., 0., 0., 0., 0., 0., 0., 0.],\n",
       "       [0., 0., 0., 2., 0., 0., 0., 0., 0., 0., 0., 0., 0., 0., 0.],\n",
       "       [0., 0., 0., 0., 2., 0., 0., 0., 0., 0., 0., 0., 0., 0., 0.],\n",
       "       [0., 0., 0., 0., 0., 2., 0., 0., 0., 0., 0., 0., 0., 0., 0.],\n",
       "       [0., 0., 0., 0., 0., 0., 2., 0., 0., 0., 0., 0., 0., 0., 0.],\n",
       "       [0., 0., 0., 0., 0., 0., 0., 2., 0., 0., 0., 0., 0., 0., 0.],\n",
       "       [0., 0., 0., 0., 0., 0., 0., 0., 2., 0., 0., 0., 0., 0., 0.],\n",
       "       [0., 0., 0., 0., 0., 0., 0., 0., 0., 2., 0., 0., 0., 0., 0.],\n",
       "       [0., 0., 0., 0., 0., 0., 0., 0., 0., 0., 2., 0., 0., 0., 0.],\n",
       "       [0., 0., 0., 0., 0., 0., 0., 0., 0., 0., 0., 2., 0., 0., 0.],\n",
       "       [0., 0., 0., 0., 0., 0., 0., 0., 0., 0., 0., 0., 2., 0., 0.],\n",
       "       [0., 0., 0., 0., 0., 0., 0., 0., 0., 0., 0., 0., 0., 2., 0.],\n",
       "       [0., 0., 0., 0., 0., 0., 0., 0., 0., 0., 0., 0., 0., 0., 2.]])"
      ]
     },
     "execution_count": 140,
     "metadata": {},
     "output_type": "execute_result"
    }
   ],
   "source": [
    "a = np.zeros((n, n))\n",
    "for i in range(1, n):\n",
    "    for j in range(i, i+1):\n",
    "        a[i, j] = (math.factorial(i)/math.factorial(j)/math.factorial(i-j)) + \\\n",
    "        (math.factorial(j)/math.factorial(i)/math.factorial(j-i))\n",
    "a"
   ]
  }
 ],
 "metadata": {
  "kernelspec": {
   "display_name": "Python 3",
   "language": "python",
   "name": "python3"
  },
  "language_info": {
   "codemirror_mode": {
    "name": "ipython",
    "version": 3
   },
   "file_extension": ".py",
   "mimetype": "text/x-python",
   "name": "python",
   "nbconvert_exporter": "python",
   "pygments_lexer": "ipython3",
   "version": "3.8.5"
  }
 },
 "nbformat": 4,
 "nbformat_minor": 5
}
